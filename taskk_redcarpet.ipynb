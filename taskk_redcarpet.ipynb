{
 "cells": [
  {
   "cell_type": "code",
   "execution_count": 331,
   "metadata": {},
   "outputs": [],
   "source": [
    "import numpy as np\n",
    "import seaborn as sb\n",
    "import matplotlib.pyplot as plt\n",
    "%matplotlib inline\n",
    "from sklearn.linear_model import LinearRegression\n",
    "from sklearn.linear_model import LassoLars"
   ]
  },
  {
   "cell_type": "code",
   "execution_count": 327,
   "metadata": {},
   "outputs": [
    {
     "data": {
      "text/html": [
       "<div>\n",
       "<style scoped>\n",
       "    .dataframe tbody tr th:only-of-type {\n",
       "        vertical-align: middle;\n",
       "    }\n",
       "\n",
       "    .dataframe tbody tr th {\n",
       "        vertical-align: top;\n",
       "    }\n",
       "\n",
       "    .dataframe thead th {\n",
       "        text-align: right;\n",
       "    }\n",
       "</style>\n",
       "<table border=\"1\" class=\"dataframe\">\n",
       "  <thead>\n",
       "    <tr style=\"text-align: right;\">\n",
       "      <th></th>\n",
       "      <th>Symbol</th>\n",
       "      <th>Series</th>\n",
       "      <th>Date</th>\n",
       "      <th>Prev Close</th>\n",
       "      <th>Open Price</th>\n",
       "      <th>High Price</th>\n",
       "      <th>Low Price</th>\n",
       "      <th>Last Price</th>\n",
       "      <th>Close Price</th>\n",
       "      <th>Average Price</th>\n",
       "      <th>Total Traded Quantity</th>\n",
       "      <th>Turnover</th>\n",
       "      <th>No. of Trades</th>\n",
       "      <th>Deliverable Qty</th>\n",
       "      <th>% Dly Qt to Traded Qty</th>\n",
       "    </tr>\n",
       "  </thead>\n",
       "  <tbody>\n",
       "    <tr>\n",
       "      <th>0</th>\n",
       "      <td>INFY</td>\n",
       "      <td>EQ</td>\n",
       "      <td>2015-06-01</td>\n",
       "      <td>2023.15</td>\n",
       "      <td>2032.8</td>\n",
       "      <td>2064.00</td>\n",
       "      <td>2023.25</td>\n",
       "      <td>2042.0</td>\n",
       "      <td>2047.80</td>\n",
       "      <td>2048.10</td>\n",
       "      <td>1431223</td>\n",
       "      <td>2.931285e+09</td>\n",
       "      <td>62717</td>\n",
       "      <td>1029588</td>\n",
       "      <td>71.94</td>\n",
       "    </tr>\n",
       "    <tr>\n",
       "      <th>1</th>\n",
       "      <td>INFY</td>\n",
       "      <td>EQ</td>\n",
       "      <td>2015-06-02</td>\n",
       "      <td>2047.80</td>\n",
       "      <td>2048.1</td>\n",
       "      <td>2055.10</td>\n",
       "      <td>2005.00</td>\n",
       "      <td>2013.0</td>\n",
       "      <td>2008.65</td>\n",
       "      <td>2018.63</td>\n",
       "      <td>1168285</td>\n",
       "      <td>2.358332e+09</td>\n",
       "      <td>67384</td>\n",
       "      <td>793960</td>\n",
       "      <td>67.96</td>\n",
       "    </tr>\n",
       "    <tr>\n",
       "      <th>2</th>\n",
       "      <td>INFY</td>\n",
       "      <td>EQ</td>\n",
       "      <td>2015-06-03</td>\n",
       "      <td>2008.65</td>\n",
       "      <td>2018.2</td>\n",
       "      <td>2039.45</td>\n",
       "      <td>2008.00</td>\n",
       "      <td>2032.0</td>\n",
       "      <td>2020.90</td>\n",
       "      <td>2019.78</td>\n",
       "      <td>1373949</td>\n",
       "      <td>2.775068e+09</td>\n",
       "      <td>50402</td>\n",
       "      <td>824814</td>\n",
       "      <td>60.03</td>\n",
       "    </tr>\n",
       "    <tr>\n",
       "      <th>3</th>\n",
       "      <td>INFY</td>\n",
       "      <td>EQ</td>\n",
       "      <td>2015-06-04</td>\n",
       "      <td>2020.90</td>\n",
       "      <td>2030.0</td>\n",
       "      <td>2055.00</td>\n",
       "      <td>2012.60</td>\n",
       "      <td>2028.1</td>\n",
       "      <td>2028.05</td>\n",
       "      <td>2036.59</td>\n",
       "      <td>1872366</td>\n",
       "      <td>3.813250e+09</td>\n",
       "      <td>98562</td>\n",
       "      <td>1395596</td>\n",
       "      <td>74.54</td>\n",
       "    </tr>\n",
       "    <tr>\n",
       "      <th>4</th>\n",
       "      <td>INFY</td>\n",
       "      <td>EQ</td>\n",
       "      <td>2015-06-05</td>\n",
       "      <td>2028.05</td>\n",
       "      <td>2030.0</td>\n",
       "      <td>2044.00</td>\n",
       "      <td>2008.15</td>\n",
       "      <td>2011.5</td>\n",
       "      <td>2011.65</td>\n",
       "      <td>2020.89</td>\n",
       "      <td>1531447</td>\n",
       "      <td>3.094883e+09</td>\n",
       "      <td>61438</td>\n",
       "      <td>1014160</td>\n",
       "      <td>66.22</td>\n",
       "    </tr>\n",
       "  </tbody>\n",
       "</table>\n",
       "</div>"
      ],
      "text/plain": [
       "  Symbol Series       Date  Prev Close  Open Price  High Price  Low Price  \\\n",
       "0   INFY     EQ 2015-06-01     2023.15      2032.8     2064.00    2023.25   \n",
       "1   INFY     EQ 2015-06-02     2047.80      2048.1     2055.10    2005.00   \n",
       "2   INFY     EQ 2015-06-03     2008.65      2018.2     2039.45    2008.00   \n",
       "3   INFY     EQ 2015-06-04     2020.90      2030.0     2055.00    2012.60   \n",
       "4   INFY     EQ 2015-06-05     2028.05      2030.0     2044.00    2008.15   \n",
       "\n",
       "   Last Price  Close Price  Average Price  Total Traded Quantity  \\\n",
       "0      2042.0      2047.80        2048.10                1431223   \n",
       "1      2013.0      2008.65        2018.63                1168285   \n",
       "2      2032.0      2020.90        2019.78                1373949   \n",
       "3      2028.1      2028.05        2036.59                1872366   \n",
       "4      2011.5      2011.65        2020.89                1531447   \n",
       "\n",
       "       Turnover  No. of Trades  Deliverable Qty  % Dly Qt to Traded Qty  \n",
       "0  2.931285e+09          62717          1029588                   71.94  \n",
       "1  2.358332e+09          67384           793960                   67.96  \n",
       "2  2.775068e+09          50402           824814                   60.03  \n",
       "3  3.813250e+09          98562          1395596                   74.54  \n",
       "4  3.094883e+09          61438          1014160                   66.22  "
      ]
     },
     "execution_count": 327,
     "metadata": {},
     "output_type": "execute_result"
    }
   ],
   "source": [
    "import pandas as pd\n",
    "from pandas import Series,DataFrame\n",
    "df=pd.read_csv(\"infy.csv\",parse_dates=['Date'])#parse_date to convertdate format to yyyy-mm-dd\n",
    "df.head()"
   ]
  },
  {
   "cell_type": "code",
   "execution_count": 303,
   "metadata": {},
   "outputs": [],
   "source": [
    "#making another data frame and made date as index formaking time-series implemantation easy\n",
    "#if function doesn't have date then pandas have date_range() to create it\n",
    "df2=pd.read_csv(\"infy.csv\",parse_dates=['Date'],index_col=\"Date\")"
   ]
  },
  {
   "cell_type": "code",
   "execution_count": 304,
   "metadata": {},
   "outputs": [],
   "source": [
    "def avg(data):\n",
    "    a=[4,16,28,40,52]\n",
    "    d_avg=[]\n",
    "    for i in a:\n",
    "        d_avg.append(df['Close Price'][0:i*7].mean())\n",
    "    return d_avg\n",
    "        "
   ]
  },
  {
   "cell_type": "code",
   "execution_count": 305,
   "metadata": {},
   "outputs": [
    {
     "name": "stdout",
     "output_type": "stream",
     "text": [
      "[1356.3482142857144, 1164.1901785714283, 1137.4515306122441, 1151.1957661290314, 1151.1957661290314]\n"
     ]
    }
   ],
   "source": [
    "#1 task\n",
    "d=avg(df2['Close Price'])\n",
    "print(d)"
   ]
  },
  {
   "cell_type": "code",
   "execution_count": 306,
   "metadata": {},
   "outputs": [
    {
     "data": {
      "text/html": [
       "<div>\n",
       "<style scoped>\n",
       "    .dataframe tbody tr th:only-of-type {\n",
       "        vertical-align: middle;\n",
       "    }\n",
       "\n",
       "    .dataframe tbody tr th {\n",
       "        vertical-align: top;\n",
       "    }\n",
       "\n",
       "    .dataframe thead th {\n",
       "        text-align: right;\n",
       "    }\n",
       "</style>\n",
       "<table border=\"1\" class=\"dataframe\">\n",
       "  <thead>\n",
       "    <tr style=\"text-align: right;\">\n",
       "      <th></th>\n",
       "      <th>Symbol</th>\n",
       "      <th>Series</th>\n",
       "      <th>Prev Close</th>\n",
       "      <th>Open Price</th>\n",
       "      <th>High Price</th>\n",
       "      <th>Low Price</th>\n",
       "      <th>Last Price</th>\n",
       "      <th>Close Price</th>\n",
       "      <th>Average Price</th>\n",
       "      <th>Total Traded Quantity</th>\n",
       "      <th>Turnover</th>\n",
       "      <th>No. of Trades</th>\n",
       "      <th>Deliverable Qty</th>\n",
       "      <th>% Dly Qt to Traded Qty</th>\n",
       "    </tr>\n",
       "    <tr>\n",
       "      <th>Date</th>\n",
       "      <th></th>\n",
       "      <th></th>\n",
       "      <th></th>\n",
       "      <th></th>\n",
       "      <th></th>\n",
       "      <th></th>\n",
       "      <th></th>\n",
       "      <th></th>\n",
       "      <th></th>\n",
       "      <th></th>\n",
       "      <th></th>\n",
       "      <th></th>\n",
       "      <th></th>\n",
       "      <th></th>\n",
       "    </tr>\n",
       "  </thead>\n",
       "  <tbody>\n",
       "    <tr>\n",
       "      <th>2015-06-01</th>\n",
       "      <td>INFY</td>\n",
       "      <td>EQ</td>\n",
       "      <td>2023.15</td>\n",
       "      <td>2032.8</td>\n",
       "      <td>2064.00</td>\n",
       "      <td>2023.25</td>\n",
       "      <td>2042.0</td>\n",
       "      <td>2047.80</td>\n",
       "      <td>2048.10</td>\n",
       "      <td>1431223</td>\n",
       "      <td>2.931285e+09</td>\n",
       "      <td>62717</td>\n",
       "      <td>1029588</td>\n",
       "      <td>71.94</td>\n",
       "    </tr>\n",
       "    <tr>\n",
       "      <th>2015-06-02</th>\n",
       "      <td>INFY</td>\n",
       "      <td>EQ</td>\n",
       "      <td>2047.80</td>\n",
       "      <td>2048.1</td>\n",
       "      <td>2055.10</td>\n",
       "      <td>2005.00</td>\n",
       "      <td>2013.0</td>\n",
       "      <td>2008.65</td>\n",
       "      <td>2018.63</td>\n",
       "      <td>1168285</td>\n",
       "      <td>2.358332e+09</td>\n",
       "      <td>67384</td>\n",
       "      <td>793960</td>\n",
       "      <td>67.96</td>\n",
       "    </tr>\n",
       "    <tr>\n",
       "      <th>2015-06-03</th>\n",
       "      <td>INFY</td>\n",
       "      <td>EQ</td>\n",
       "      <td>2008.65</td>\n",
       "      <td>2018.2</td>\n",
       "      <td>2039.45</td>\n",
       "      <td>2008.00</td>\n",
       "      <td>2032.0</td>\n",
       "      <td>2020.90</td>\n",
       "      <td>2019.78</td>\n",
       "      <td>1373949</td>\n",
       "      <td>2.775068e+09</td>\n",
       "      <td>50402</td>\n",
       "      <td>824814</td>\n",
       "      <td>60.03</td>\n",
       "    </tr>\n",
       "    <tr>\n",
       "      <th>2015-06-04</th>\n",
       "      <td>INFY</td>\n",
       "      <td>EQ</td>\n",
       "      <td>2020.90</td>\n",
       "      <td>2030.0</td>\n",
       "      <td>2055.00</td>\n",
       "      <td>2012.60</td>\n",
       "      <td>2028.1</td>\n",
       "      <td>2028.05</td>\n",
       "      <td>2036.59</td>\n",
       "      <td>1872366</td>\n",
       "      <td>3.813250e+09</td>\n",
       "      <td>98562</td>\n",
       "      <td>1395596</td>\n",
       "      <td>74.54</td>\n",
       "    </tr>\n",
       "    <tr>\n",
       "      <th>2015-06-05</th>\n",
       "      <td>INFY</td>\n",
       "      <td>EQ</td>\n",
       "      <td>2028.05</td>\n",
       "      <td>2030.0</td>\n",
       "      <td>2044.00</td>\n",
       "      <td>2008.15</td>\n",
       "      <td>2011.5</td>\n",
       "      <td>2011.65</td>\n",
       "      <td>2020.89</td>\n",
       "      <td>1531447</td>\n",
       "      <td>3.094883e+09</td>\n",
       "      <td>61438</td>\n",
       "      <td>1014160</td>\n",
       "      <td>66.22</td>\n",
       "    </tr>\n",
       "  </tbody>\n",
       "</table>\n",
       "</div>"
      ],
      "text/plain": [
       "           Symbol Series  Prev Close  Open Price  High Price  Low Price  \\\n",
       "Date                                                                      \n",
       "2015-06-01   INFY     EQ     2023.15      2032.8     2064.00    2023.25   \n",
       "2015-06-02   INFY     EQ     2047.80      2048.1     2055.10    2005.00   \n",
       "2015-06-03   INFY     EQ     2008.65      2018.2     2039.45    2008.00   \n",
       "2015-06-04   INFY     EQ     2020.90      2030.0     2055.00    2012.60   \n",
       "2015-06-05   INFY     EQ     2028.05      2030.0     2044.00    2008.15   \n",
       "\n",
       "            Last Price  Close Price  Average Price  Total Traded Quantity  \\\n",
       "Date                                                                        \n",
       "2015-06-01      2042.0      2047.80        2048.10                1431223   \n",
       "2015-06-02      2013.0      2008.65        2018.63                1168285   \n",
       "2015-06-03      2032.0      2020.90        2019.78                1373949   \n",
       "2015-06-04      2028.1      2028.05        2036.59                1872366   \n",
       "2015-06-05      2011.5      2011.65        2020.89                1531447   \n",
       "\n",
       "                Turnover  No. of Trades  Deliverable Qty  \\\n",
       "Date                                                       \n",
       "2015-06-01  2.931285e+09          62717          1029588   \n",
       "2015-06-02  2.358332e+09          67384           793960   \n",
       "2015-06-03  2.775068e+09          50402           824814   \n",
       "2015-06-04  3.813250e+09          98562          1395596   \n",
       "2015-06-05  3.094883e+09          61438          1014160   \n",
       "\n",
       "            % Dly Qt to Traded Qty  \n",
       "Date                                \n",
       "2015-06-01                   71.94  \n",
       "2015-06-02                   67.96  \n",
       "2015-06-03                   60.03  \n",
       "2015-06-04                   74.54  \n",
       "2015-06-05                   66.22  "
      ]
     },
     "execution_count": 306,
     "metadata": {},
     "output_type": "execute_result"
    }
   ],
   "source": [
    "df2.head()"
   ]
  },
  {
   "cell_type": "markdown",
   "metadata": {},
   "source": [
    "#some extra related visualization"
   ]
  },
  {
   "cell_type": "code",
   "execution_count": 307,
   "metadata": {},
   "outputs": [
    {
     "data": {
      "text/plain": [
       "<matplotlib.axes._subplots.AxesSubplot at 0x7fa1e1c23240>"
      ]
     },
     "execution_count": 307,
     "metadata": {},
     "output_type": "execute_result"
    },
    {
     "data": {
      "image/png": "[encoded data removed]",
      "text/plain": [
       "<Figure size 432x288 with 1 Axes>"
      ]
     },
     "metadata": {},
     "output_type": "display_data"
    }
   ],
   "source": [
    "%matplotlib inline\n",
    "df2[\"Close Price\"].resample('M').mean().plot() #month eng frequency plot"
   ]
  },
  {
   "cell_type": "code",
   "execution_count": 308,
   "metadata": {},
   "outputs": [
    {
     "data": {
      "text/plain": [
       "<matplotlib.axes._subplots.AxesSubplot at 0x7fa1e1c52a90>"
      ]
     },
     "execution_count": 308,
     "metadata": {},
     "output_type": "execute_result"
    },
    {
     "data": {
      "image/png": "[encoded data removed]",
      "text/plain": [
       "<Figure size 432x288 with 1 Axes>"
      ]
     },
     "metadata": {},
     "output_type": "display_data"
    }
   ],
   "source": [
    "#visualisation for Bissness day  plot(excluding & handling holidays)\n",
    "df2[\"Close Price\"].resample('B').mean().plot()"
   ]
  },
  {
   "cell_type": "code",
   "execution_count": 309,
   "metadata": {},
   "outputs": [
    {
     "data": {
      "text/plain": [
       "<matplotlib.axes._subplots.AxesSubplot at 0x7fa1e1e80470>"
      ]
     },
     "execution_count": 309,
     "metadata": {},
     "output_type": "execute_result"
    },
    {
     "data": {
      "image/png": "[encoded data removed]",
      "text/plain": [
       "<Figure size 432x288 with 1 Axes>"
      ]
     },
     "metadata": {},
     "output_type": "display_data"
    }
   ],
   "source": [
    "df2[\"Close Price\"].plot()#regular chart"
   ]
  },
  {
   "cell_type": "markdown",
   "metadata": {},
   "source": [
    "**#part1\n",
    "#task2**"
   ]
  },
  {
   "cell_type": "code",
   "execution_count": 310,
   "metadata": {},
   "outputs": [],
   "source": [
    "#rolling window means using some ample of data from whole range of data\n",
    "#with size 10 & 75\n",
    "df10=df2[0:10]\n",
    "df75=df2[0:75]"
   ]
  },
  {
   "cell_type": "markdown",
   "metadata": {},
   "source": [
    "#from pandas.tseries.holiday import USFederalHolidayCalendar\n",
    "#indias celender is not in pandas we can create holidays of it\n",
    "#In india sunday is holiday so i use mask sunday(we can do better)\n",
    "#let say 2 july also an holiday(assume)\n",
    "# so all sundays and selected holidays we can handle in this way"
   ]
  },
  {
   "cell_type": "code",
   "execution_count": 311,
   "metadata": {},
   "outputs": [],
   "source": [
    "from pandas.tseries.offsets import CustomBusinessDay\n",
    "hh=CustomBusinessDay(weekmask='Mon Tue Wed Thu Fri Sat',holidays=['2017-07-02'])\n"
   ]
  },
  {
   "cell_type": "code",
   "execution_count": 312,
   "metadata": {},
   "outputs": [
    {
     "data": {
      "text/html": [
       "<div>\n",
       "<style scoped>\n",
       "    .dataframe tbody tr th:only-of-type {\n",
       "        vertical-align: middle;\n",
       "    }\n",
       "\n",
       "    .dataframe tbody tr th {\n",
       "        vertical-align: top;\n",
       "    }\n",
       "\n",
       "    .dataframe thead th {\n",
       "        text-align: right;\n",
       "    }\n",
       "</style>\n",
       "<table border=\"1\" class=\"dataframe\">\n",
       "  <thead>\n",
       "    <tr style=\"text-align: right;\">\n",
       "      <th></th>\n",
       "      <th>Symbol</th>\n",
       "      <th>Series</th>\n",
       "      <th>Prev Close</th>\n",
       "      <th>Open Price</th>\n",
       "      <th>High Price</th>\n",
       "      <th>Low Price</th>\n",
       "      <th>Last Price</th>\n",
       "      <th>Close Price</th>\n",
       "      <th>Average Price</th>\n",
       "      <th>Total Traded Quantity</th>\n",
       "      <th>Turnover</th>\n",
       "      <th>No. of Trades</th>\n",
       "      <th>Deliverable Qty</th>\n",
       "      <th>% Dly Qt to Traded Qty</th>\n",
       "    </tr>\n",
       "  </thead>\n",
       "  <tbody>\n",
       "    <tr>\n",
       "      <th>2015-06-01</th>\n",
       "      <td>INFY</td>\n",
       "      <td>EQ</td>\n",
       "      <td>2023.15</td>\n",
       "      <td>2032.8</td>\n",
       "      <td>2064.00</td>\n",
       "      <td>2023.25</td>\n",
       "      <td>2042.0</td>\n",
       "      <td>2047.80</td>\n",
       "      <td>2048.10</td>\n",
       "      <td>1431223</td>\n",
       "      <td>2.931285e+09</td>\n",
       "      <td>62717</td>\n",
       "      <td>1029588</td>\n",
       "      <td>71.94</td>\n",
       "    </tr>\n",
       "    <tr>\n",
       "      <th>2015-06-02</th>\n",
       "      <td>INFY</td>\n",
       "      <td>EQ</td>\n",
       "      <td>2047.80</td>\n",
       "      <td>2048.1</td>\n",
       "      <td>2055.10</td>\n",
       "      <td>2005.00</td>\n",
       "      <td>2013.0</td>\n",
       "      <td>2008.65</td>\n",
       "      <td>2018.63</td>\n",
       "      <td>1168285</td>\n",
       "      <td>2.358332e+09</td>\n",
       "      <td>67384</td>\n",
       "      <td>793960</td>\n",
       "      <td>67.96</td>\n",
       "    </tr>\n",
       "    <tr>\n",
       "      <th>2015-06-03</th>\n",
       "      <td>INFY</td>\n",
       "      <td>EQ</td>\n",
       "      <td>2008.65</td>\n",
       "      <td>2018.2</td>\n",
       "      <td>2039.45</td>\n",
       "      <td>2008.00</td>\n",
       "      <td>2032.0</td>\n",
       "      <td>2020.90</td>\n",
       "      <td>2019.78</td>\n",
       "      <td>1373949</td>\n",
       "      <td>2.775068e+09</td>\n",
       "      <td>50402</td>\n",
       "      <td>824814</td>\n",
       "      <td>60.03</td>\n",
       "    </tr>\n",
       "    <tr>\n",
       "      <th>2015-06-04</th>\n",
       "      <td>INFY</td>\n",
       "      <td>EQ</td>\n",
       "      <td>2020.90</td>\n",
       "      <td>2030.0</td>\n",
       "      <td>2055.00</td>\n",
       "      <td>2012.60</td>\n",
       "      <td>2028.1</td>\n",
       "      <td>2028.05</td>\n",
       "      <td>2036.59</td>\n",
       "      <td>1872366</td>\n",
       "      <td>3.813250e+09</td>\n",
       "      <td>98562</td>\n",
       "      <td>1395596</td>\n",
       "      <td>74.54</td>\n",
       "    </tr>\n",
       "    <tr>\n",
       "      <th>2015-06-05</th>\n",
       "      <td>INFY</td>\n",
       "      <td>EQ</td>\n",
       "      <td>2028.05</td>\n",
       "      <td>2030.0</td>\n",
       "      <td>2044.00</td>\n",
       "      <td>2008.15</td>\n",
       "      <td>2011.5</td>\n",
       "      <td>2011.65</td>\n",
       "      <td>2020.89</td>\n",
       "      <td>1531447</td>\n",
       "      <td>3.094883e+09</td>\n",
       "      <td>61438</td>\n",
       "      <td>1014160</td>\n",
       "      <td>66.22</td>\n",
       "    </tr>\n",
       "  </tbody>\n",
       "</table>\n",
       "</div>"
      ],
      "text/plain": [
       "           Symbol Series  Prev Close  Open Price  High Price  Low Price  \\\n",
       "2015-06-01   INFY     EQ     2023.15      2032.8     2064.00    2023.25   \n",
       "2015-06-02   INFY     EQ     2047.80      2048.1     2055.10    2005.00   \n",
       "2015-06-03   INFY     EQ     2008.65      2018.2     2039.45    2008.00   \n",
       "2015-06-04   INFY     EQ     2020.90      2030.0     2055.00    2012.60   \n",
       "2015-06-05   INFY     EQ     2028.05      2030.0     2044.00    2008.15   \n",
       "\n",
       "            Last Price  Close Price  Average Price  Total Traded Quantity  \\\n",
       "2015-06-01      2042.0      2047.80        2048.10                1431223   \n",
       "2015-06-02      2013.0      2008.65        2018.63                1168285   \n",
       "2015-06-03      2032.0      2020.90        2019.78                1373949   \n",
       "2015-06-04      2028.1      2028.05        2036.59                1872366   \n",
       "2015-06-05      2011.5      2011.65        2020.89                1531447   \n",
       "\n",
       "                Turnover  No. of Trades  Deliverable Qty  \\\n",
       "2015-06-01  2.931285e+09          62717          1029588   \n",
       "2015-06-02  2.358332e+09          67384           793960   \n",
       "2015-06-03  2.775068e+09          50402           824814   \n",
       "2015-06-04  3.813250e+09          98562          1395596   \n",
       "2015-06-05  3.094883e+09          61438          1014160   \n",
       "\n",
       "            % Dly Qt to Traded Qty  \n",
       "2015-06-01                   71.94  \n",
       "2015-06-02                   67.96  \n",
       "2015-06-03                   60.03  \n",
       "2015-06-04                   74.54  \n",
       "2015-06-05                   66.22  "
      ]
     },
     "execution_count": 312,
     "metadata": {},
     "output_type": "execute_result"
    }
   ],
   "source": [
    "r1=pd.date_range(start=\"6/1/2015\",end=\"6/11/2015\",freq=hh)\n",
    "df10.set_index(r1,inplace=True)\n",
    "df10.head()"
   ]
  },
  {
   "cell_type": "code",
   "execution_count": 313,
   "metadata": {},
   "outputs": [
    {
     "data": {
      "text/plain": [
       "<matplotlib.axes._subplots.AxesSubplot at 0x7fa1e1a456a0>"
      ]
     },
     "execution_count": 313,
     "metadata": {},
     "output_type": "execute_result"
    },
    {
     "data": {
      "image/png": "[encoded data removed]",
      "text/plain": [
       "<Figure size 432x288 with 1 Axes>"
      ]
     },
     "metadata": {},
     "output_type": "display_data"
    }
   ],
   "source": [
    "df10.plot()"
   ]
  },
  {
   "cell_type": "code",
   "execution_count": 314,
   "metadata": {},
   "outputs": [
    {
     "data": {
      "text/html": [
       "<div>\n",
       "<style scoped>\n",
       "    .dataframe tbody tr th:only-of-type {\n",
       "        vertical-align: middle;\n",
       "    }\n",
       "\n",
       "    .dataframe tbody tr th {\n",
       "        vertical-align: top;\n",
       "    }\n",
       "\n",
       "    .dataframe thead th {\n",
       "        text-align: right;\n",
       "    }\n",
       "</style>\n",
       "<table border=\"1\" class=\"dataframe\">\n",
       "  <thead>\n",
       "    <tr style=\"text-align: right;\">\n",
       "      <th></th>\n",
       "      <th>Symbol</th>\n",
       "      <th>Series</th>\n",
       "      <th>Prev Close</th>\n",
       "      <th>Open Price</th>\n",
       "      <th>High Price</th>\n",
       "      <th>Low Price</th>\n",
       "      <th>Last Price</th>\n",
       "      <th>Close Price</th>\n",
       "      <th>Average Price</th>\n",
       "      <th>Total Traded Quantity</th>\n",
       "      <th>Turnover</th>\n",
       "      <th>No. of Trades</th>\n",
       "      <th>Deliverable Qty</th>\n",
       "      <th>% Dly Qt to Traded Qty</th>\n",
       "    </tr>\n",
       "  </thead>\n",
       "  <tbody>\n",
       "    <tr>\n",
       "      <th>2015-06-01</th>\n",
       "      <td>INFY</td>\n",
       "      <td>EQ</td>\n",
       "      <td>2023.15</td>\n",
       "      <td>2032.8</td>\n",
       "      <td>2064.00</td>\n",
       "      <td>2023.25</td>\n",
       "      <td>2042.0</td>\n",
       "      <td>2047.80</td>\n",
       "      <td>2048.10</td>\n",
       "      <td>1431223</td>\n",
       "      <td>2.931285e+09</td>\n",
       "      <td>62717</td>\n",
       "      <td>1029588</td>\n",
       "      <td>71.94</td>\n",
       "    </tr>\n",
       "    <tr>\n",
       "      <th>2015-06-02</th>\n",
       "      <td>INFY</td>\n",
       "      <td>EQ</td>\n",
       "      <td>2047.80</td>\n",
       "      <td>2048.1</td>\n",
       "      <td>2055.10</td>\n",
       "      <td>2005.00</td>\n",
       "      <td>2013.0</td>\n",
       "      <td>2008.65</td>\n",
       "      <td>2018.63</td>\n",
       "      <td>1168285</td>\n",
       "      <td>2.358332e+09</td>\n",
       "      <td>67384</td>\n",
       "      <td>793960</td>\n",
       "      <td>67.96</td>\n",
       "    </tr>\n",
       "    <tr>\n",
       "      <th>2015-06-03</th>\n",
       "      <td>INFY</td>\n",
       "      <td>EQ</td>\n",
       "      <td>2008.65</td>\n",
       "      <td>2018.2</td>\n",
       "      <td>2039.45</td>\n",
       "      <td>2008.00</td>\n",
       "      <td>2032.0</td>\n",
       "      <td>2020.90</td>\n",
       "      <td>2019.78</td>\n",
       "      <td>1373949</td>\n",
       "      <td>2.775068e+09</td>\n",
       "      <td>50402</td>\n",
       "      <td>824814</td>\n",
       "      <td>60.03</td>\n",
       "    </tr>\n",
       "    <tr>\n",
       "      <th>2015-06-04</th>\n",
       "      <td>INFY</td>\n",
       "      <td>EQ</td>\n",
       "      <td>2020.90</td>\n",
       "      <td>2030.0</td>\n",
       "      <td>2055.00</td>\n",
       "      <td>2012.60</td>\n",
       "      <td>2028.1</td>\n",
       "      <td>2028.05</td>\n",
       "      <td>2036.59</td>\n",
       "      <td>1872366</td>\n",
       "      <td>3.813250e+09</td>\n",
       "      <td>98562</td>\n",
       "      <td>1395596</td>\n",
       "      <td>74.54</td>\n",
       "    </tr>\n",
       "    <tr>\n",
       "      <th>2015-06-05</th>\n",
       "      <td>INFY</td>\n",
       "      <td>EQ</td>\n",
       "      <td>2028.05</td>\n",
       "      <td>2030.0</td>\n",
       "      <td>2044.00</td>\n",
       "      <td>2008.15</td>\n",
       "      <td>2011.5</td>\n",
       "      <td>2011.65</td>\n",
       "      <td>2020.89</td>\n",
       "      <td>1531447</td>\n",
       "      <td>3.094883e+09</td>\n",
       "      <td>61438</td>\n",
       "      <td>1014160</td>\n",
       "      <td>66.22</td>\n",
       "    </tr>\n",
       "  </tbody>\n",
       "</table>\n",
       "</div>"
      ],
      "text/plain": [
       "           Symbol Series  Prev Close  Open Price  High Price  Low Price  \\\n",
       "2015-06-01   INFY     EQ     2023.15      2032.8     2064.00    2023.25   \n",
       "2015-06-02   INFY     EQ     2047.80      2048.1     2055.10    2005.00   \n",
       "2015-06-03   INFY     EQ     2008.65      2018.2     2039.45    2008.00   \n",
       "2015-06-04   INFY     EQ     2020.90      2030.0     2055.00    2012.60   \n",
       "2015-06-05   INFY     EQ     2028.05      2030.0     2044.00    2008.15   \n",
       "\n",
       "            Last Price  Close Price  Average Price  Total Traded Quantity  \\\n",
       "2015-06-01      2042.0      2047.80        2048.10                1431223   \n",
       "2015-06-02      2013.0      2008.65        2018.63                1168285   \n",
       "2015-06-03      2032.0      2020.90        2019.78                1373949   \n",
       "2015-06-04      2028.1      2028.05        2036.59                1872366   \n",
       "2015-06-05      2011.5      2011.65        2020.89                1531447   \n",
       "\n",
       "                Turnover  No. of Trades  Deliverable Qty  \\\n",
       "2015-06-01  2.931285e+09          62717          1029588   \n",
       "2015-06-02  2.358332e+09          67384           793960   \n",
       "2015-06-03  2.775068e+09          50402           824814   \n",
       "2015-06-04  3.813250e+09          98562          1395596   \n",
       "2015-06-05  3.094883e+09          61438          1014160   \n",
       "\n",
       "            % Dly Qt to Traded Qty  \n",
       "2015-06-01                   71.94  \n",
       "2015-06-02                   67.96  \n",
       "2015-06-03                   60.03  \n",
       "2015-06-04                   74.54  \n",
       "2015-06-05                   66.22  "
      ]
     },
     "execution_count": 314,
     "metadata": {},
     "output_type": "execute_result"
    }
   ],
   "source": [
    "r=pd.date_range(start=\"6/1/2015\",end=\"8/26/2015\",freq=hh)\n",
    "df75.set_index(r,inplace=True)\n",
    "df75.head()"
   ]
  },
  {
   "cell_type": "code",
   "execution_count": 315,
   "metadata": {
    "scrolled": true
   },
   "outputs": [
    {
     "data": {
      "text/html": [
       "<div>\n",
       "<style scoped>\n",
       "    .dataframe tbody tr th:only-of-type {\n",
       "        vertical-align: middle;\n",
       "    }\n",
       "\n",
       "    .dataframe tbody tr th {\n",
       "        vertical-align: top;\n",
       "    }\n",
       "\n",
       "    .dataframe thead th {\n",
       "        text-align: right;\n",
       "    }\n",
       "</style>\n",
       "<table border=\"1\" class=\"dataframe\">\n",
       "  <thead>\n",
       "    <tr style=\"text-align: right;\">\n",
       "      <th></th>\n",
       "      <th>Symbol</th>\n",
       "      <th>Series</th>\n",
       "      <th>Prev Close</th>\n",
       "      <th>Open Price</th>\n",
       "      <th>High Price</th>\n",
       "      <th>Low Price</th>\n",
       "      <th>Last Price</th>\n",
       "      <th>Close Price</th>\n",
       "      <th>Average Price</th>\n",
       "      <th>Total Traded Quantity</th>\n",
       "      <th>Turnover</th>\n",
       "      <th>No. of Trades</th>\n",
       "      <th>Deliverable Qty</th>\n",
       "      <th>% Dly Qt to Traded Qty</th>\n",
       "    </tr>\n",
       "  </thead>\n",
       "  <tbody>\n",
       "    <tr>\n",
       "      <th>2015-06-01</th>\n",
       "      <td>INFY</td>\n",
       "      <td>EQ</td>\n",
       "      <td>2023.15</td>\n",
       "      <td>2032.8</td>\n",
       "      <td>2064.00</td>\n",
       "      <td>2023.25</td>\n",
       "      <td>2042.0</td>\n",
       "      <td>2047.80</td>\n",
       "      <td>2048.10</td>\n",
       "      <td>1431223</td>\n",
       "      <td>2.931285e+09</td>\n",
       "      <td>62717</td>\n",
       "      <td>1029588</td>\n",
       "      <td>71.94</td>\n",
       "    </tr>\n",
       "    <tr>\n",
       "      <th>2015-06-02</th>\n",
       "      <td>INFY</td>\n",
       "      <td>EQ</td>\n",
       "      <td>2047.80</td>\n",
       "      <td>2048.1</td>\n",
       "      <td>2055.10</td>\n",
       "      <td>2005.00</td>\n",
       "      <td>2013.0</td>\n",
       "      <td>2008.65</td>\n",
       "      <td>2018.63</td>\n",
       "      <td>1168285</td>\n",
       "      <td>2.358332e+09</td>\n",
       "      <td>67384</td>\n",
       "      <td>793960</td>\n",
       "      <td>67.96</td>\n",
       "    </tr>\n",
       "    <tr>\n",
       "      <th>2015-06-03</th>\n",
       "      <td>INFY</td>\n",
       "      <td>EQ</td>\n",
       "      <td>2008.65</td>\n",
       "      <td>2018.2</td>\n",
       "      <td>2039.45</td>\n",
       "      <td>2008.00</td>\n",
       "      <td>2032.0</td>\n",
       "      <td>2020.90</td>\n",
       "      <td>2019.78</td>\n",
       "      <td>1373949</td>\n",
       "      <td>2.775068e+09</td>\n",
       "      <td>50402</td>\n",
       "      <td>824814</td>\n",
       "      <td>60.03</td>\n",
       "    </tr>\n",
       "    <tr>\n",
       "      <th>2015-06-04</th>\n",
       "      <td>INFY</td>\n",
       "      <td>EQ</td>\n",
       "      <td>2020.90</td>\n",
       "      <td>2030.0</td>\n",
       "      <td>2055.00</td>\n",
       "      <td>2012.60</td>\n",
       "      <td>2028.1</td>\n",
       "      <td>2028.05</td>\n",
       "      <td>2036.59</td>\n",
       "      <td>1872366</td>\n",
       "      <td>3.813250e+09</td>\n",
       "      <td>98562</td>\n",
       "      <td>1395596</td>\n",
       "      <td>74.54</td>\n",
       "    </tr>\n",
       "    <tr>\n",
       "      <th>2015-06-05</th>\n",
       "      <td>INFY</td>\n",
       "      <td>EQ</td>\n",
       "      <td>2028.05</td>\n",
       "      <td>2030.0</td>\n",
       "      <td>2044.00</td>\n",
       "      <td>2008.15</td>\n",
       "      <td>2011.5</td>\n",
       "      <td>2011.65</td>\n",
       "      <td>2020.89</td>\n",
       "      <td>1531447</td>\n",
       "      <td>3.094883e+09</td>\n",
       "      <td>61438</td>\n",
       "      <td>1014160</td>\n",
       "      <td>66.22</td>\n",
       "    </tr>\n",
       "  </tbody>\n",
       "</table>\n",
       "</div>"
      ],
      "text/plain": [
       "           Symbol Series  Prev Close  Open Price  High Price  Low Price  \\\n",
       "2015-06-01   INFY     EQ     2023.15      2032.8     2064.00    2023.25   \n",
       "2015-06-02   INFY     EQ     2047.80      2048.1     2055.10    2005.00   \n",
       "2015-06-03   INFY     EQ     2008.65      2018.2     2039.45    2008.00   \n",
       "2015-06-04   INFY     EQ     2020.90      2030.0     2055.00    2012.60   \n",
       "2015-06-05   INFY     EQ     2028.05      2030.0     2044.00    2008.15   \n",
       "\n",
       "            Last Price  Close Price  Average Price  Total Traded Quantity  \\\n",
       "2015-06-01      2042.0      2047.80        2048.10                1431223   \n",
       "2015-06-02      2013.0      2008.65        2018.63                1168285   \n",
       "2015-06-03      2032.0      2020.90        2019.78                1373949   \n",
       "2015-06-04      2028.1      2028.05        2036.59                1872366   \n",
       "2015-06-05      2011.5      2011.65        2020.89                1531447   \n",
       "\n",
       "                Turnover  No. of Trades  Deliverable Qty  \\\n",
       "2015-06-01  2.931285e+09          62717          1029588   \n",
       "2015-06-02  2.358332e+09          67384           793960   \n",
       "2015-06-03  2.775068e+09          50402           824814   \n",
       "2015-06-04  3.813250e+09          98562          1395596   \n",
       "2015-06-05  3.094883e+09          61438          1014160   \n",
       "\n",
       "            % Dly Qt to Traded Qty  \n",
       "2015-06-01                   71.94  \n",
       "2015-06-02                   67.96  \n",
       "2015-06-03                   60.03  \n",
       "2015-06-04                   74.54  \n",
       "2015-06-05                   66.22  "
      ]
     },
     "execution_count": 315,
     "metadata": {},
     "output_type": "execute_result"
    }
   ],
   "source": [
    "r=pd.date_range(start=\"6/1/2015\",end=\"3/15/2016\",freq=hh)\n",
    "df2.set_index(r,inplace=True)\n",
    "df2.head()"
   ]
  },
  {
   "cell_type": "code",
   "execution_count": 336,
   "metadata": {},
   "outputs": [],
   "source": [
    "#for rolling windowtask\n",
    "df2['Rolling_Mean'] = df2['Close Price'].rolling(window = 10).mean()"
   ]
  },
  {
   "cell_type": "code",
   "execution_count": 337,
   "metadata": {},
   "outputs": [],
   "source": [
    "#for rolling windowtask\n",
    "df2['Rolling_Mean2'] = df2['Close Price'].rolling(window = 75).mean()"
   ]
  },
  {
   "cell_type": "code",
   "execution_count": 339,
   "metadata": {},
   "outputs": [
    {
     "data": {
      "text/html": [
       "<div>\n",
       "<style scoped>\n",
       "    .dataframe tbody tr th:only-of-type {\n",
       "        vertical-align: middle;\n",
       "    }\n",
       "\n",
       "    .dataframe tbody tr th {\n",
       "        vertical-align: top;\n",
       "    }\n",
       "\n",
       "    .dataframe thead th {\n",
       "        text-align: right;\n",
       "    }\n",
       "</style>\n",
       "<table border=\"1\" class=\"dataframe\">\n",
       "  <thead>\n",
       "    <tr style=\"text-align: right;\">\n",
       "      <th></th>\n",
       "      <th>Symbol</th>\n",
       "      <th>Series</th>\n",
       "      <th>Prev Close</th>\n",
       "      <th>Open Price</th>\n",
       "      <th>High Price</th>\n",
       "      <th>Low Price</th>\n",
       "      <th>Last Price</th>\n",
       "      <th>Close Price</th>\n",
       "      <th>Average Price</th>\n",
       "      <th>Total Traded Quantity</th>\n",
       "      <th>Turnover</th>\n",
       "      <th>No. of Trades</th>\n",
       "      <th>Deliverable Qty</th>\n",
       "      <th>% Dly Qt to Traded Qty</th>\n",
       "      <th>Volume Shocks</th>\n",
       "      <th>Price Shocks</th>\n",
       "      <th>Price black Swan</th>\n",
       "      <th>Price without volume</th>\n",
       "      <th>Rolling_Mean</th>\n",
       "      <th>Rolling_Mean2</th>\n",
       "    </tr>\n",
       "  </thead>\n",
       "  <tbody>\n",
       "    <tr>\n",
       "      <th>2015-06-01</th>\n",
       "      <td>INFY</td>\n",
       "      <td>EQ</td>\n",
       "      <td>2023.15</td>\n",
       "      <td>2032.8</td>\n",
       "      <td>2064.0</td>\n",
       "      <td>2023.25</td>\n",
       "      <td>2042.0</td>\n",
       "      <td>2047.80</td>\n",
       "      <td>2048.10</td>\n",
       "      <td>1431223</td>\n",
       "      <td>2.931285e+09</td>\n",
       "      <td>62717</td>\n",
       "      <td>1029588</td>\n",
       "      <td>71.94</td>\n",
       "      <td>1</td>\n",
       "      <td>0</td>\n",
       "      <td>0</td>\n",
       "      <td>0</td>\n",
       "      <td>NaN</td>\n",
       "      <td>NaN</td>\n",
       "    </tr>\n",
       "    <tr>\n",
       "      <th>2015-06-02</th>\n",
       "      <td>INFY</td>\n",
       "      <td>EQ</td>\n",
       "      <td>2047.80</td>\n",
       "      <td>2048.1</td>\n",
       "      <td>2055.1</td>\n",
       "      <td>2005.00</td>\n",
       "      <td>2013.0</td>\n",
       "      <td>2008.65</td>\n",
       "      <td>2018.63</td>\n",
       "      <td>1168285</td>\n",
       "      <td>2.358332e+09</td>\n",
       "      <td>67384</td>\n",
       "      <td>793960</td>\n",
       "      <td>67.96</td>\n",
       "      <td>0</td>\n",
       "      <td>1</td>\n",
       "      <td>1</td>\n",
       "      <td>1</td>\n",
       "      <td>NaN</td>\n",
       "      <td>NaN</td>\n",
       "    </tr>\n",
       "  </tbody>\n",
       "</table>\n",
       "</div>"
      ],
      "text/plain": [
       "           Symbol Series  Prev Close  Open Price  High Price  Low Price  \\\n",
       "2015-06-01   INFY     EQ     2023.15      2032.8      2064.0    2023.25   \n",
       "2015-06-02   INFY     EQ     2047.80      2048.1      2055.1    2005.00   \n",
       "\n",
       "            Last Price  Close Price  Average Price  Total Traded Quantity  \\\n",
       "2015-06-01      2042.0      2047.80        2048.10                1431223   \n",
       "2015-06-02      2013.0      2008.65        2018.63                1168285   \n",
       "\n",
       "                Turnover  No. of Trades  Deliverable Qty  \\\n",
       "2015-06-01  2.931285e+09          62717          1029588   \n",
       "2015-06-02  2.358332e+09          67384           793960   \n",
       "\n",
       "            % Dly Qt to Traded Qty  Volume Shocks  Price Shocks  \\\n",
       "2015-06-01                   71.94              1             0   \n",
       "2015-06-02                   67.96              0             1   \n",
       "\n",
       "            Price black Swan  Price without volume  Rolling_Mean  \\\n",
       "2015-06-01                 0                     0           NaN   \n",
       "2015-06-02                 1                     1           NaN   \n",
       "\n",
       "            Rolling_Mean2  \n",
       "2015-06-01            NaN  \n",
       "2015-06-02            NaN  "
      ]
     },
     "execution_count": 339,
     "metadata": {},
     "output_type": "execute_result"
    }
   ],
   "source": [
    "df2.head(2)"
   ]
  },
  {
   "cell_type": "code",
   "execution_count": 338,
   "metadata": {},
   "outputs": [
    {
     "name": "stdout",
     "output_type": "stream",
     "text": [
      "2016-12\n",
      "2017-01\n"
     ]
    }
   ],
   "source": [
    "#some extra on periods\n",
    "#we give period on m which give 2016 and d is m+1 will give 2017\n",
    "#so it fully aware of celender plus which year is leap year\n",
    "#freq='M' means months ends\n",
    "m=pd.Period('2016-12',freq='M')\n",
    "s=m+1\n",
    "print(m)#give 2016\n",
    "print(s)#give 2017"
   ]
  },
  {
   "cell_type": "code",
   "execution_count": 317,
   "metadata": {},
   "outputs": [
    {
     "data": {
      "text/plain": [
       "\"a=[]\\nif df['No. of Trades'][1]-df['No. of Trades'][0] >2 :\\n    a.append(1)\\na\""
      ]
     },
     "execution_count": 317,
     "metadata": {},
     "output_type": "execute_result"
    }
   ],
   "source": [
    "#part1-task=3\n",
    "#trying to do wdummy variables with function\n",
    "#but some problem happns if got more time able to resolve\n",
    "'''def dummy1(data):\n",
    "    for i in range(len(data)-1):\n",
    "        if data[i+1]-data[i] >2:\n",
    "            a.append(1)\n",
    "        else:\n",
    "            a.append(0)\n",
    "    a.append(0)\n",
    "    se = pd.Series(a)\n",
    "    return se'''\n",
    "'''def dummy2(data1):\n",
    "    a1=[]\n",
    "    for i in range(1,len(data1)):\n",
    "        if data1[i-1]-data1[i] >2:\n",
    "            a1.append(1)\n",
    "        else:\n",
    "            a1.append(0)\n",
    "    a1.append(0)\n",
    "    se = pd.Series(a1)\n",
    "    return se'''\n",
    "'''a=[]\n",
    "if df['No. of Trades'][1]-df['No. of Trades'][0] >2 :\n",
    "    a.append(1)\n",
    "a'''"
   ]
  },
  {
   "cell_type": "code",
   "execution_count": 318,
   "metadata": {},
   "outputs": [],
   "source": [
    "#part1-task 3\n",
    "a1=[]\n",
    "for i in range(len(df2['No. of Trades'])-1):\n",
    "    if df2['No. of Trades'][i+1]-df2['No. of Trades'][i] >10:\n",
    "        a1.append(1)\n",
    "    else:\n",
    "        a1.append(0)\n",
    "a1.append(0)\n",
    "    #se = pd.Series(a)\n",
    "df2['Volume Shocks']=a1\n"
   ]
  },
  {
   "cell_type": "code",
   "execution_count": 319,
   "metadata": {},
   "outputs": [],
   "source": [
    "a2=[]\n",
    "for i in range(len(df2['Close Price'])-1):\n",
    "    if df2['Close Price'][i+1]-df2['Close Price'][i] >2:\n",
    "        a2.append(1)\n",
    "    else:\n",
    "        a2.append(0)\n",
    "a2.append(0)\n",
    "    #se = pd.Series(a)\n",
    "df2['Price Shocks']=a2"
   ]
  },
  {
   "cell_type": "code",
   "execution_count": 320,
   "metadata": {},
   "outputs": [],
   "source": [
    "a3=[]\n",
    "for i in range(len(df2['Close Price'])-1):\n",
    "    if df2['Close Price'][i+1]-df2['Close Price'][i] >2:\n",
    "        a3.append(1)\n",
    "    else:\n",
    "        a3.append(0)\n",
    "a3.append(0)\n",
    "df2['Price black Swan']=a3"
   ]
  },
  {
   "cell_type": "code",
   "execution_count": 321,
   "metadata": {},
   "outputs": [
    {
     "name": "stdout",
     "output_type": "stream",
     "text": [
      "1\n"
     ]
    }
   ],
   "source": [
    "print(df2['Volume Shocks'][2])#accessing values"
   ]
  },
  {
   "cell_type": "code",
   "execution_count": 322,
   "metadata": {},
   "outputs": [],
   "source": [
    "b=[]\n",
    "for i in range(len(df)):\n",
    "    if df2['Volume Shocks'][i] ==0 and df2['Price Shocks'][i]==1:\n",
    "        b.append(1)\n",
    "        #print(1)\n",
    "    else:\n",
    "        b.append(0)\n",
    "        #print(0)\n",
    "df2['Price without volume']=b"
   ]
  },
  {
   "cell_type": "markdown",
   "metadata": {},
   "source": [
    "# All dummy created"
   ]
  },
  {
   "cell_type": "code",
   "execution_count": 350,
   "metadata": {},
   "outputs": [
    {
     "data": {
      "text/html": [
       "<div>\n",
       "<style scoped>\n",
       "    .dataframe tbody tr th:only-of-type {\n",
       "        vertical-align: middle;\n",
       "    }\n",
       "\n",
       "    .dataframe tbody tr th {\n",
       "        vertical-align: top;\n",
       "    }\n",
       "\n",
       "    .dataframe thead th {\n",
       "        text-align: right;\n",
       "    }\n",
       "</style>\n",
       "<table border=\"1\" class=\"dataframe\">\n",
       "  <thead>\n",
       "    <tr style=\"text-align: right;\">\n",
       "      <th></th>\n",
       "      <th>Symbol</th>\n",
       "      <th>Series</th>\n",
       "      <th>Prev Close</th>\n",
       "      <th>Open Price</th>\n",
       "      <th>High Price</th>\n",
       "      <th>Low Price</th>\n",
       "      <th>Last Price</th>\n",
       "      <th>Close Price</th>\n",
       "      <th>Average Price</th>\n",
       "      <th>Total Traded Quantity</th>\n",
       "      <th>Turnover</th>\n",
       "      <th>No. of Trades</th>\n",
       "      <th>Deliverable Qty</th>\n",
       "      <th>% Dly Qt to Traded Qty</th>\n",
       "      <th>Volume Shocks</th>\n",
       "      <th>Price Shocks</th>\n",
       "      <th>Price black Swan</th>\n",
       "      <th>Price without volume</th>\n",
       "      <th>Rolling_Mean</th>\n",
       "      <th>Rolling_Mean2</th>\n",
       "    </tr>\n",
       "  </thead>\n",
       "  <tbody>\n",
       "    <tr>\n",
       "      <th>2015-06-01</th>\n",
       "      <td>INFY</td>\n",
       "      <td>EQ</td>\n",
       "      <td>2023.15</td>\n",
       "      <td>2032.8</td>\n",
       "      <td>2064.00</td>\n",
       "      <td>2023.25</td>\n",
       "      <td>2042.0</td>\n",
       "      <td>2047.80</td>\n",
       "      <td>2048.10</td>\n",
       "      <td>1431223</td>\n",
       "      <td>2.931285e+09</td>\n",
       "      <td>62717</td>\n",
       "      <td>1029588</td>\n",
       "      <td>71.94</td>\n",
       "      <td>1</td>\n",
       "      <td>0</td>\n",
       "      <td>0</td>\n",
       "      <td>0</td>\n",
       "      <td>NaN</td>\n",
       "      <td>NaN</td>\n",
       "    </tr>\n",
       "    <tr>\n",
       "      <th>2015-06-02</th>\n",
       "      <td>INFY</td>\n",
       "      <td>EQ</td>\n",
       "      <td>2047.80</td>\n",
       "      <td>2048.1</td>\n",
       "      <td>2055.10</td>\n",
       "      <td>2005.00</td>\n",
       "      <td>2013.0</td>\n",
       "      <td>2008.65</td>\n",
       "      <td>2018.63</td>\n",
       "      <td>1168285</td>\n",
       "      <td>2.358332e+09</td>\n",
       "      <td>67384</td>\n",
       "      <td>793960</td>\n",
       "      <td>67.96</td>\n",
       "      <td>0</td>\n",
       "      <td>1</td>\n",
       "      <td>1</td>\n",
       "      <td>1</td>\n",
       "      <td>NaN</td>\n",
       "      <td>NaN</td>\n",
       "    </tr>\n",
       "    <tr>\n",
       "      <th>2015-06-03</th>\n",
       "      <td>INFY</td>\n",
       "      <td>EQ</td>\n",
       "      <td>2008.65</td>\n",
       "      <td>2018.2</td>\n",
       "      <td>2039.45</td>\n",
       "      <td>2008.00</td>\n",
       "      <td>2032.0</td>\n",
       "      <td>2020.90</td>\n",
       "      <td>2019.78</td>\n",
       "      <td>1373949</td>\n",
       "      <td>2.775068e+09</td>\n",
       "      <td>50402</td>\n",
       "      <td>824814</td>\n",
       "      <td>60.03</td>\n",
       "      <td>1</td>\n",
       "      <td>1</td>\n",
       "      <td>1</td>\n",
       "      <td>0</td>\n",
       "      <td>NaN</td>\n",
       "      <td>NaN</td>\n",
       "    </tr>\n",
       "    <tr>\n",
       "      <th>2015-06-04</th>\n",
       "      <td>INFY</td>\n",
       "      <td>EQ</td>\n",
       "      <td>2020.90</td>\n",
       "      <td>2030.0</td>\n",
       "      <td>2055.00</td>\n",
       "      <td>2012.60</td>\n",
       "      <td>2028.1</td>\n",
       "      <td>2028.05</td>\n",
       "      <td>2036.59</td>\n",
       "      <td>1872366</td>\n",
       "      <td>3.813250e+09</td>\n",
       "      <td>98562</td>\n",
       "      <td>1395596</td>\n",
       "      <td>74.54</td>\n",
       "      <td>0</td>\n",
       "      <td>0</td>\n",
       "      <td>0</td>\n",
       "      <td>0</td>\n",
       "      <td>NaN</td>\n",
       "      <td>NaN</td>\n",
       "    </tr>\n",
       "    <tr>\n",
       "      <th>2015-06-05</th>\n",
       "      <td>INFY</td>\n",
       "      <td>EQ</td>\n",
       "      <td>2028.05</td>\n",
       "      <td>2030.0</td>\n",
       "      <td>2044.00</td>\n",
       "      <td>2008.15</td>\n",
       "      <td>2011.5</td>\n",
       "      <td>2011.65</td>\n",
       "      <td>2020.89</td>\n",
       "      <td>1531447</td>\n",
       "      <td>3.094883e+09</td>\n",
       "      <td>61438</td>\n",
       "      <td>1014160</td>\n",
       "      <td>66.22</td>\n",
       "      <td>0</td>\n",
       "      <td>0</td>\n",
       "      <td>0</td>\n",
       "      <td>0</td>\n",
       "      <td>NaN</td>\n",
       "      <td>NaN</td>\n",
       "    </tr>\n",
       "  </tbody>\n",
       "</table>\n",
       "</div>"
      ],
      "text/plain": [
       "           Symbol Series  Prev Close  Open Price  High Price  Low Price  \\\n",
       "2015-06-01   INFY     EQ     2023.15      2032.8     2064.00    2023.25   \n",
       "2015-06-02   INFY     EQ     2047.80      2048.1     2055.10    2005.00   \n",
       "2015-06-03   INFY     EQ     2008.65      2018.2     2039.45    2008.00   \n",
       "2015-06-04   INFY     EQ     2020.90      2030.0     2055.00    2012.60   \n",
       "2015-06-05   INFY     EQ     2028.05      2030.0     2044.00    2008.15   \n",
       "\n",
       "            Last Price  Close Price  Average Price  Total Traded Quantity  \\\n",
       "2015-06-01      2042.0      2047.80        2048.10                1431223   \n",
       "2015-06-02      2013.0      2008.65        2018.63                1168285   \n",
       "2015-06-03      2032.0      2020.90        2019.78                1373949   \n",
       "2015-06-04      2028.1      2028.05        2036.59                1872366   \n",
       "2015-06-05      2011.5      2011.65        2020.89                1531447   \n",
       "\n",
       "                Turnover  No. of Trades  Deliverable Qty  \\\n",
       "2015-06-01  2.931285e+09          62717          1029588   \n",
       "2015-06-02  2.358332e+09          67384           793960   \n",
       "2015-06-03  2.775068e+09          50402           824814   \n",
       "2015-06-04  3.813250e+09          98562          1395596   \n",
       "2015-06-05  3.094883e+09          61438          1014160   \n",
       "\n",
       "            % Dly Qt to Traded Qty  Volume Shocks  Price Shocks  \\\n",
       "2015-06-01                   71.94              1             0   \n",
       "2015-06-02                   67.96              0             1   \n",
       "2015-06-03                   60.03              1             1   \n",
       "2015-06-04                   74.54              0             0   \n",
       "2015-06-05                   66.22              0             0   \n",
       "\n",
       "            Price black Swan  Price without volume  Rolling_Mean  \\\n",
       "2015-06-01                 0                     0           NaN   \n",
       "2015-06-02                 1                     1           NaN   \n",
       "2015-06-03                 1                     0           NaN   \n",
       "2015-06-04                 0                     0           NaN   \n",
       "2015-06-05                 0                     0           NaN   \n",
       "\n",
       "            Rolling_Mean2  \n",
       "2015-06-01            NaN  \n",
       "2015-06-02            NaN  \n",
       "2015-06-03            NaN  \n",
       "2015-06-04            NaN  \n",
       "2015-06-05            NaN  "
      ]
     },
     "execution_count": 350,
     "metadata": {},
     "output_type": "execute_result"
    }
   ],
   "source": [
    "df2.head()"
   ]
  },
  {
   "cell_type": "markdown",
   "metadata": {},
   "source": [
    "# part2 -data visualization\n",
    "1. Create timeseries plot of close prices of stocks/indices with the following features:\n",
    "2. Color timeseries in simple blue color.\n",
    "3. Color timeseries between two volume shocks in a different color (Red)\n",
    "4. Gradient color in blue spectrum based on difference of 52 week moving average.\n",
    "5. Mark closing Pricing shock without volume shock to identify volumeless price movement.\n",
    "6. Hand craft partial autocorrelation plot for each stock/index on upto all lookbacks on bokeh"
   ]
  },
  {
   "cell_type": "code",
   "execution_count": 332,
   "metadata": {},
   "outputs": [
    {
     "data": {
      "text/plain": [
       "1151.1957661290314"
      ]
     },
     "execution_count": 332,
     "metadata": {},
     "output_type": "execute_result"
    }
   ],
   "source": [
    "#52 week avg\n",
    "d[-1]"
   ]
  },
  {
   "cell_type": "code",
   "execution_count": 324,
   "metadata": {},
   "outputs": [
    {
     "data": {
      "text/plain": [
       "<matplotlib.axes._subplots.AxesSubplot at 0x7fa1e19eb668>"
      ]
     },
     "execution_count": 324,
     "metadata": {},
     "output_type": "execute_result"
    },
    {
     "data": {
      "image/png": "[encoded data removed]",
      "text/plain": [
       "<Figure size 432x288 with 1 Axes>"
      ]
     },
     "metadata": {},
     "output_type": "display_data"
    }
   ],
   "source": [
    "df2['Close Price'].plot()"
   ]
  },
  {
   "cell_type": "code",
   "execution_count": 330,
   "metadata": {},
   "outputs": [
    {
     "name": "stderr",
     "output_type": "stream",
     "text": [
      "/home/ayush/anaconda3/lib/python3.6/site-packages/pandas/plotting/_core.py:194: UserWarning: 'colors' is being deprecated. Please use 'color'instead of 'colors'\n",
      "  warnings.warn((\"'colors' is being deprecated. Please use 'color'\"\n"
     ]
    },
    {
     "data": {
      "text/plain": [
       "<matplotlib.axes._subplots.AxesSubplot at 0x7fa1e1d23d68>"
      ]
     },
     "execution_count": 330,
     "metadata": {},
     "output_type": "execute_result"
    },
    {
     "data": {
      "image/png": "[encoded data removed]",
      "text/plain": [
       "<Figure size 432x288 with 1 Axes>"
      ]
     },
     "metadata": {},
     "output_type": "display_data"
    }
   ],
   "source": [
    "#2\n",
    "df2['Volume Shocks'].plot(colors='Red')"
   ]
  },
  {
   "cell_type": "code",
   "execution_count": 335,
   "metadata": {},
   "outputs": [
    {
     "data": {
      "image/png": "[encoded data removed]",
      "text/plain": [
       "<Figure size 720x360 with 2 Axes>"
      ]
     },
     "metadata": {},
     "output_type": "display_data"
    }
   ],
   "source": [
    "fig, axes = plt.subplots(nrows = 1, ncols = 2, figsize = (10,5));\n",
    "axes[0].plot('Close Price', 'Volume Shocks', data = df2);\n",
    "axes[0].set_title('Close - Vloume');\n",
    "axes[1].plot('Close Price', 'Price Shocks', data = df2);\n",
    "axes[1].set_title('Close-Price Shocks');"
   ]
  },
  {
   "cell_type": "code",
   "execution_count": 342,
   "metadata": {},
   "outputs": [
    {
     "data": {
      "image/png": "[encoded data removed]",
      "text/plain": [
       "<Figure size 1080x360 with 4 Axes>"
      ]
     },
     "metadata": {},
     "output_type": "display_data"
    }
   ],
   "source": [
    "#4\n",
    "fig, axes = plt.subplots(nrows = 1, ncols = 4, figsize = (15,5));\n",
    "axes[0].plot('Close Price', 'Price without volume', data = df2);\n",
    "axes[0].set_title('Close Price without volume');\n",
    "axes[1].plot('Close Price', 'Volume Shocks', data = df2);\n",
    "axes[1].set_title('Sampled');\n",
    "axes[2].plot('Close Price', 'Rolling_Mean2', data = df2);\n",
    "axes[2].set_title('Smoothed (Rolling_Mean2)');\n",
    "axes[3].plot('Close Price', 'Rolling_Mean', data = df2);\n",
    "axes[3].set_title('Smoothed (Rolling_Mean)');"
   ]
  },
  {
   "cell_type": "code",
   "execution_count": 349,
   "metadata": {
    "scrolled": true
   },
   "outputs": [
    {
     "data": {
      "image/png": "[encoded data removed]",
      "text/plain": [
       "<Figure size 432x288 with 1 Axes>"
      ]
     },
     "metadata": {},
     "output_type": "display_data"
    }
   ],
   "source": [
    "#1&2\n",
    "fig = plt.figure();\n",
    "ax = fig.add_subplot(111);\n",
    "dd=df2[0:50] #samled data\n",
    "ax.plot(dd['Close Price'], dd['Volume Shocks'], color = (0,0,0), linewidth = 4, alpha = .9, label = 'with volume close price');\n",
    "ax.plot(dd['Close Price'], dd['Price without volume'], color = (1,0,0), label = 'without volume close price');\n",
    "ax.set_title('Close Price-Volume')\n",
    "ax.set_xlabel('Volume Shocks')\n",
    "ax.set_ylabel('Price')\n",
    "ax.legend(loc='lower right');"
   ]
  },
  {
   "cell_type": "markdown",
   "metadata": {},
   "source": [
    "# modeling"
   ]
  },
  {
   "cell_type": "code",
   "execution_count": 378,
   "metadata": {},
   "outputs": [],
   "source": [
    "#part3-modeling\n",
    "feature=['Prev Close','High Price','Low Price','Close Price','Rolling_Mean2']\n",
    "df2_train=df2.drop(['Open Price','Symbol','Series','Rolling_Mean','Rolling_Mean2'],axis=1)\n",
    "label=df2['Open Price']\n",
    "from sklearn.cross_validation import train_test_split\n",
    "X_train, X_test, y_train, y_test=train_test_split(df2_train,label, test_size = 0.2, random_state = 42)"
   ]
  },
  {
   "cell_type": "code",
   "execution_count": 379,
   "metadata": {},
   "outputs": [],
   "source": [
    "l_reg=LinearRegression()\n",
    "lasso_reg=LassoLars()"
   ]
  },
  {
   "cell_type": "code",
   "execution_count": 380,
   "metadata": {},
   "outputs": [
    {
     "data": {
      "text/plain": [
       "LinearRegression(copy_X=True, fit_intercept=True, n_jobs=1, normalize=False)"
      ]
     },
     "execution_count": 380,
     "metadata": {},
     "output_type": "execute_result"
    }
   ],
   "source": [
    "l_reg.fit(X_train,y_train)"
   ]
  },
  {
   "cell_type": "code",
   "execution_count": 382,
   "metadata": {},
   "outputs": [
    {
     "data": {
      "text/plain": [
       "0.9977899095378261"
      ]
     },
     "execution_count": 382,
     "metadata": {},
     "output_type": "execute_result"
    }
   ],
   "source": [
    "\n",
    "l_reg.score(X_test,y_test)"
   ]
  },
  {
   "cell_type": "code",
   "execution_count": 383,
   "metadata": {},
   "outputs": [
    {
     "data": {
      "text/plain": [
       "LassoLars(alpha=1.0, copy_X=True, eps=2.220446049250313e-16,\n",
       "     fit_intercept=True, fit_path=True, max_iter=500, normalize=True,\n",
       "     positive=False, precompute='auto', verbose=False)"
      ]
     },
     "execution_count": 383,
     "metadata": {},
     "output_type": "execute_result"
    }
   ],
   "source": [
    "lasso_reg.fit(X_train,y_train)"
   ]
  },
  {
   "cell_type": "code",
   "execution_count": 384,
   "metadata": {},
   "outputs": [
    {
     "data": {
      "text/plain": [
       "0.990066397677656"
      ]
     },
     "execution_count": 384,
     "metadata": {},
     "output_type": "execute_result"
    }
   ],
   "source": [
    "lasso_reg.score(X_test,y_test)"
   ]
  },
  {
   "cell_type": "code",
   "execution_count": null,
   "metadata": {},
   "outputs": [],
   "source": []
  }
 ],
 "metadata": {
  "kernelspec": {
   "display_name": "Python 3",
   "language": "python",
   "name": "python3"
  },
  "language_info": {
   "codemirror_mode": {
    "name": "ipython",
    "version": 3
   },
   "file_extension": ".py",
   "mimetype": "text/x-python",
   "name": "python",
   "nbconvert_exporter": "python",
   "pygments_lexer": "ipython3",
   "version": "3.6.5"
  }
 },
 "nbformat": 4,
 "nbformat_minor": 2
}
